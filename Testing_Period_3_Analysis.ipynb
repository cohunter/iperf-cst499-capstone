{
  "nbformat": 4,
  "nbformat_minor": 0,
  "metadata": {
    "colab": {
      "name": "Testing Period 3 Analysis",
      "provenance": []
    },
    "kernelspec": {
      "name": "python3",
      "display_name": "Python 3"
    }
  },
  "cells": [
    {
      "cell_type": "code",
      "metadata": {
        "id": "i_jY9a1B-ngj",
        "colab_type": "code",
        "outputId": "045a6e8d-f73c-4f36-dab3-1edb2606ecd4",
        "colab": {
          "base_uri": "https://localhost:8080/",
          "height": 34
        }
      },
      "source": [
        "import pandas as pd\n",
        "\n",
        "iperf2_3_tcp_alex = pd.read_csv(\"https://corey.to/capstone/client/Alex/tcp.csv\")\n",
        "iperf2_3_udp_alex = pd.read_csv(\"https://corey.to/capstone/client/Alex/udp.csv\")\n",
        "iperf2_3_udp3m_alex = pd.read_csv(\"https://corey.to/capstone/client/Alex/udp3m.csv\")\n",
        "\n",
        "iperf3_multiperf3_alex = pd.read_csv(\"https://corey.to/capstone/client/Alex/multiperf3.csv\")\n",
        "\n",
        "'''\n",
        "iperf2_3_tcp_alex.info()\n",
        "iperf2_3_udp_alex.info()\n",
        "iperf2_3_udp3m_alex.info()\n",
        "iperf3_multiperf3_alex.info()\n",
        "'''"
      ],
      "execution_count": 0,
      "outputs": [
        {
          "output_type": "execute_result",
          "data": {
            "text/plain": [
              "'\\niperf2_3_tcp_alex.info()\\niperf2_3_udp_alex.info()\\niperf2_3_udp3m_alex.info()\\niperf3_multiperf3_alex.info()\\n'"
            ]
          },
          "metadata": {
            "tags": []
          },
          "execution_count": 2
        }
      ]
    },
    {
      "cell_type": "code",
      "metadata": {
        "id": "kqQ78pI5C-hJ",
        "colab_type": "code",
        "outputId": "65235240-49f0-40dc-e72a-ec86fa2d44e8",
        "colab": {
          "base_uri": "https://localhost:8080/",
          "height": 34
        }
      },
      "source": [
        "iperf2_3_tcp_spencer = pd.read_csv(\"https://corey.to/capstone/client/android-spencer/tcp.csv\")\n",
        "iperf2_3_udp_spencer = pd.read_csv(\"https://corey.to/capstone/client/android-spencer/udp.csv\")\n",
        "iperf2_3_udp3m_spencer = pd.read_csv(\"https://corey.to/capstone/client/android-spencer/udp3m.csv\")\n",
        "\n",
        "iperf3_multiperf3_spencer = pd.read_csv(\"https://corey.to/capstone/client/android-spencer/multiperf3.csv\")\n",
        "\n",
        "'''\n",
        "iperf2_3_tcp_spencer.info()\n",
        "iperf2_3_udp_spencer.info()\n",
        "iperf2_3_udp3m_spencer.info()\n",
        "iperf3_multiperf3_spencer.info()\n",
        "'''"
      ],
      "execution_count": 0,
      "outputs": [
        {
          "output_type": "execute_result",
          "data": {
            "text/plain": [
              "'\\niperf2_3_tcp_spencer.info()\\niperf2_3_udp_spencer.info()\\niperf2_3_udp3m_spencer.info()\\niperf3_multiperf3_spencer.info()\\n'"
            ]
          },
          "metadata": {
            "tags": []
          },
          "execution_count": 3
        }
      ]
    },
    {
      "cell_type": "code",
      "metadata": {
        "id": "nTeTCCkIFdB-",
        "colab_type": "code",
        "outputId": "0a943eae-418d-43a0-f5f2-68f01ac9c72f",
        "colab": {
          "base_uri": "https://localhost:8080/",
          "height": 34
        }
      },
      "source": [
        "iperf2_3_udp_corey = pd.read_csv(\"https://corey.to/capstone/client/mac-corey/udp.csv\")\n",
        "iperf2_3_udp3m_corey = pd.read_csv(\"https://corey.to/capstone/client/mac-corey/udp3m.csv\")\n",
        "iperf2_3_tcp_corey = pd.read_csv(\"https://corey.to/capstone/client/mac-corey/tcp.csv\")\n",
        "\n",
        "iperf3_multiperf3_corey = pd.read_csv(\"https://corey.to/capstone/client/mac-corey/multiperf3.csv\")\n",
        "\n",
        "'''\n",
        "iperf2_3_udp_corey.info()\n",
        "iperf2_3_udp3m_corey.info()\n",
        "iperf2_3_tcp_corey.info()\n",
        "iperf3_multiperf3_corey.info()\n",
        "'''"
      ],
      "execution_count": 0,
      "outputs": [
        {
          "output_type": "execute_result",
          "data": {
            "text/plain": [
              "'\\niperf2_3_udp_corey.info()\\niperf2_3_udp3m_corey.info()\\niperf2_3_tcp_corey.info()\\niperf3_multiperf3_corey.info()\\n'"
            ]
          },
          "metadata": {
            "tags": []
          },
          "execution_count": 4
        }
      ]
    },
    {
      "cell_type": "code",
      "metadata": {
        "id": "VuYs53VVoTuf",
        "colab_type": "code",
        "colab": {}
      },
      "source": [
        "# imports and functions go here\n",
        "\n",
        "import numpy as np\n",
        "import matplotlib.pyplot as plt\n",
        "from matplotlib.dates import num2date\n",
        "from datetime import timedelta\n",
        "\n",
        "def reindex(*dfs, col='unix_timestamp'):\n",
        "    \"\"\"\n",
        "    Reindex dataframes to datetime indexes based on values of `col`.\n",
        "    Parameters\n",
        "    ----------\n",
        "    *dfs : pandas.DataFrame\n",
        "        Dataframes to be reindexed, one or several. Modified in place.\n",
        "    col : str, optional\n",
        "        Column name to use as index. The default is 'unix_timestamp'.\n",
        "    Returns\n",
        "    -------\n",
        "    None.\n",
        "    \"\"\"\n",
        "    for df in dfs:\n",
        "        if df.index.name is not col:\n",
        "            df['unix_timestamp'] = pd.to_datetime(df[col], unit='s')\n",
        "            df.set_index(df['unix_timestamp'], inplace=True)\n",
        "\n",
        "def merge(*dfs, time=pd.Timedelta('5m')):\n",
        "    \"\"\"\n",
        "    Merge two dataframes by index time within `time` of each other.\n",
        "    Parameters\n",
        "    ----------\n",
        "    *dfs : pandas.DataFrame\n",
        "        Dataframes to merge. Must have datetime indexes.\n",
        "    time : pandas.Timedelta, optional\n",
        "        The time difference range within which to merge rows. The default is pd.Timedelta('5m').\n",
        "    Returns\n",
        "    -------\n",
        "    merged : pandas.DataFrame\n",
        "        Single dataframe containing colname_x and colname_y values and 'unix_timestamp' column as copy of index.\n",
        "    \"\"\"\n",
        "    merged = dfs[0].copy()\n",
        "    for df in dfs[1:]:\n",
        "        merged = pd.merge_asof(merged, df, left_index=True, right_index=True, tolerance=time, direction='nearest')\n",
        "    merged['unix_timestamp'] = merged.index\n",
        "    print('merged shape: {}; after dropna: {}'.format(merged.shape, merged.dropna().shape))\n",
        "    return merged.dropna()\n",
        "\n",
        "def reindex_and_merge(*dfs, col='unix_timestamp'):\n",
        "    reindex(*dfs, col=col)\n",
        "    return merge(*dfs)\n",
        "\n",
        "def _check_merged(*dfs):\n",
        "    if len(dfs) == 1:\n",
        "        return dfs[0]\n",
        "    else:\n",
        "        return reindex_and_merge(*dfs)\n",
        "\n",
        "def get_max_min(df, col='Jitter'):\n",
        "    max = df[[col+'_x', col+'_y']].max().max()\n",
        "    min = df[[col+'_x', col+'_y']].min().min()\n",
        "    return (max, min)\n",
        "\n",
        "def _pct_diff(i2, i3):\n",
        "    \"\"\"\n",
        "    Calculate percent difference, iPerf 3 vs iPerf 2\n",
        "    Parameters\n",
        "    ----------\n",
        "    i2 : number\n",
        "        Value for iPerf 2.\n",
        "    i3 : number\n",
        "        Value for iPerf 3.\n",
        "    Returns\n",
        "    -------\n",
        "    number\n",
        "        Percent difference, i3 vs i2\n",
        "    \"\"\"\n",
        "    return ((i3-i2)/i3) * 100\n",
        "\n",
        "def compare_percentiles(*dfs, col='Jitter', title='Jitter', description='UDP Jitter', percentile=95):\n",
        "    df = _check_merged(*dfs)\n",
        "    iperf2_percentile = np.percentile(df[col+'_x'], percentile)\n",
        "    iperf3_percentile = np.percentile(df[col+'_y'], percentile)\n",
        "\n",
        "    iperf2_percentile_min = np.percentile(df[col+'_x'], 100-percentile)\n",
        "    iperf3_percentile_min = np.percentile(df[col+'_y'], 100-percentile)\n",
        "    pct_diff = _pct_diff(iperf2_percentile, iperf3_percentile)\n",
        "    \n",
        "    print(f'iPerf 2 {title}, {percentile}th percentile: {iperf2_percentile:.3f}\\n'\n",
        "          f'iPerf 3 {title}, {percentile}th percentile: {iperf3_percentile:.3f}\\n'\n",
        "          f'Percent difference, iPerf 3 vs iPerf 2 {description} {percentile}th percentile: {pct_diff:.0f}%\\n')\n",
        "    '''\n",
        "    iperf2_mean = np.std(df[df[col+'_x'] <= iperf2_percentile][col+'_x'])\n",
        "    iperf3_mean = np.std(df[df[col+'_y'] <= iperf3_percentile][col+'_y'])\n",
        "    pct_diff = _pct_diff(iperf2_mean, iperf3_mean)\n",
        "    \n",
        "    print(f'iPerf 2 {title}, std below {percentile}th percentile: {iperf2_mean:.3f}\\n'\n",
        "          f'iPerf 3 {title}, std below {percentile}th percentile: {iperf3_mean:.3f}\\n'\n",
        "          f'Percent difference, iPerf 3 vs iPerf 2 {description} standard deviation below {percentile}th percentile: {pct_diff:.0f}%\\n')\n",
        "    '''\n",
        "    iperf2_within_percentile = df[(df[col+'_x'] >= iperf2_percentile_min) & (df[col+'_x'] <= iperf2_percentile)][col+'_x']\n",
        "    iperf3_within_percentile = df[(df[col+'_y'] >= iperf3_percentile_min) & (df[col+'_y'] <= iperf3_percentile)][col+'_y']\n",
        "\n",
        "    iperf2_mean_within_percentile = np.mean(iperf2_within_percentile)\n",
        "    iperf2_std_within_percentile = np.std(iperf2_within_percentile)\n",
        "\n",
        "    iperf3_mean_within_percentile = np.mean(iperf3_within_percentile)\n",
        "    iperf3_std_within_percentile = np.std(iperf3_within_percentile)\n",
        "\n",
        "    mean_pct_diff = _pct_diff(iperf2_mean_within_percentile, iperf3_mean_within_percentile)\n",
        "    std_pct_diff = _pct_diff(iperf2_std_within_percentile, iperf3_std_within_percentile)\n",
        "\n",
        "    print(f'iPerf 2, between {100-percentile}-{percentile}th percentiles:\\n'\n",
        "          f'\\tMean {description}: {iperf2_mean_within_percentile:.3f}\\n'\n",
        "          f'\\tStandard deviation: {iperf2_std_within_percentile:.3f}\\n\\n'\n",
        "          f'iPerf 3, between {100-percentile}-{percentile}th percentiles:\\n'\n",
        "          f'\\tMean {description}: {iperf3_mean_within_percentile:.3f}\\n'\n",
        "          f'\\tStandard deviation: {iperf3_std_within_percentile:.3f}\\n\\n'\n",
        "          f'Difference (mean {description}, iPerf 3 vs iPerf 2): {mean_pct_diff:.2f}%\\n'\n",
        "          f'Difference (standard deviation, iPerf 3 vs iPerf 2): {std_pct_diff:.2f}%\\n')\n",
        "    \n",
        "def get_percentiles(df, col, percentile=95):\n",
        "    \"\"\"\n",
        "    Parameters\n",
        "    ----------\n",
        "    df : pandas.DataFrame\n",
        "        A merged dataframe containing _x and _y columns.\n",
        "    col : str\n",
        "        Which column to look at.\n",
        "    percentile : int, optional\n",
        "        The percentile to calculate. The default is 95.\n",
        "    Returns\n",
        "    -------\n",
        "    (float64, float64, float64)\n",
        "        Tuple with percentile of col_x, col_y, and max of the two.\n",
        "    \"\"\"\n",
        "    p1 = np.percentile(df[col + '_x'], percentile)\n",
        "    p2 = np.percentile(df[col + '_y'], percentile)\n",
        "    return (p1, p2, np.max([p1, p2]))\n",
        "\n",
        "def compare_std(*dfs, col='Jitter', title='Jitter', description='UDP Jitter'):\n",
        "    df = _check_merged(*dfs)\n",
        "    \n",
        "    iperf2_std = np.std(df[col+'_x'])\n",
        "    iperf3_std = np.std(df[col+'_y'])\n",
        "    \n",
        "    pct_diff = ((iperf3_std - iperf2_std)/iperf3_std) * 100\n",
        "    \n",
        "    print(f'iPerf 2 {title}, standard deviation: {iperf2_std:.3f}\\n'\n",
        "          f'iPerf 3 {title}, standard deviation: {iperf3_std:.3f}\\n'\n",
        "          f'Percent difference, iPerf 3 vs iPerf 2 {description} standard deviation: {pct_diff:.0f}%')\n"
      ],
      "execution_count": 0,
      "outputs": []
    },
    {
      "cell_type": "markdown",
      "metadata": {
        "id": "PZJvJW5Dp1EO",
        "colab_type": "text"
      },
      "source": [
        "Here we do the data analysis (for graphs, we use the web interface from the web/ directory on the GitHub).\n",
        "\n",
        "UDP analysis first."
      ]
    },
    {
      "cell_type": "code",
      "metadata": {
        "id": "pqNPx6XRsEb9",
        "colab_type": "code",
        "colab": {
          "base_uri": "https://localhost:8080/",
          "height": 595
        },
        "outputId": "d5704e66-6fce-48b8-aa49-a55919a2927c"
      },
      "source": [
        "# Spencer/Android 8 (UDP)\n",
        "print(iperf2_3_udp_spencer.shape)\n",
        "compare_std(iperf2_3_udp_spencer, col='jitter_ms')\n",
        "compare_percentiles(iperf2_3_udp_spencer, col='jitter_ms')\n",
        "compare_percentiles(iperf2_3_udp_spencer, col='jitter_ms', percentile=99)"
      ],
      "execution_count": 69,
      "outputs": [
        {
          "output_type": "stream",
          "text": [
            "(344, 14)\n",
            "iPerf 2 Jitter, standard deviation: 6.779\n",
            "iPerf 3 Jitter, standard deviation: 1.568\n",
            "Percent difference, iPerf 3 vs iPerf 2 UDP Jitter standard deviation: -332%\n",
            "iPerf 2 Jitter, 95th percentile: 4.792\n",
            "iPerf 3 Jitter, 95th percentile: 4.617\n",
            "Percent difference, iPerf 3 vs iPerf 2 UDP Jitter 95th percentile: -4%\n",
            "\n",
            "iPerf 2, between 5-95th percentiles:\n",
            "\tMean UDP Jitter: 1.906\n",
            "\tStandard deviation: 0.978\n",
            "\n",
            "iPerf 3, between 5-95th percentiles:\n",
            "\tMean UDP Jitter: 1.823\n",
            "\tStandard deviation: 0.883\n",
            "\n",
            "Difference (mean UDP Jitter, iPerf 3 vs iPerf 2): -4.57%\n",
            "Difference (standard deviation, iPerf 3 vs iPerf 2): -10.70%\n",
            "\n",
            "iPerf 2 Jitter, 99th percentile: 42.139\n",
            "iPerf 3 Jitter, 99th percentile: 8.895\n",
            "Percent difference, iPerf 3 vs iPerf 2 UDP Jitter 99th percentile: -374%\n",
            "\n",
            "iPerf 2, between 1-99th percentiles:\n",
            "\tMean UDP Jitter: 2.047\n",
            "\tStandard deviation: 1.425\n",
            "\n",
            "iPerf 3, between 1-99th percentiles:\n",
            "\tMean UDP Jitter: 1.956\n",
            "\tStandard deviation: 1.259\n",
            "\n",
            "Difference (mean UDP Jitter, iPerf 3 vs iPerf 2): -4.68%\n",
            "Difference (standard deviation, iPerf 3 vs iPerf 2): -13.13%\n",
            "\n"
          ],
          "name": "stdout"
        }
      ]
    },
    {
      "cell_type": "code",
      "metadata": {
        "id": "IrtZtuJbsRJz",
        "colab_type": "code",
        "colab": {
          "base_uri": "https://localhost:8080/",
          "height": 595
        },
        "outputId": "1e1a4837-ba64-4436-9ae5-d09515a3a3db"
      },
      "source": [
        "# Spencer (UDP 3m)\n",
        "print(iperf2_3_udp3m_spencer.shape)\n",
        "compare_std(iperf2_3_udp3m_spencer, col='jitter_ms')\n",
        "compare_percentiles(iperf2_3_udp3m_spencer, col='jitter_ms')\n",
        "compare_percentiles(iperf2_3_udp3m_spencer, col='jitter_ms', percentile=99)"
      ],
      "execution_count": 70,
      "outputs": [
        {
          "output_type": "stream",
          "text": [
            "(342, 14)\n",
            "iPerf 2 Jitter, standard deviation: 6.794\n",
            "iPerf 3 Jitter, standard deviation: 0.614\n",
            "Percent difference, iPerf 3 vs iPerf 2 UDP Jitter standard deviation: -1006%\n",
            "iPerf 2 Jitter, 95th percentile: 2.757\n",
            "iPerf 3 Jitter, 95th percentile: 2.556\n",
            "Percent difference, iPerf 3 vs iPerf 2 UDP Jitter 95th percentile: -8%\n",
            "\n",
            "iPerf 2, between 5-95th percentiles:\n",
            "\tMean UDP Jitter: 1.321\n",
            "\tStandard deviation: 0.458\n",
            "\n",
            "iPerf 3, between 5-95th percentiles:\n",
            "\tMean UDP Jitter: 1.357\n",
            "\tStandard deviation: 0.395\n",
            "\n",
            "Difference (mean UDP Jitter, iPerf 3 vs iPerf 2): 2.68%\n",
            "Difference (standard deviation, iPerf 3 vs iPerf 2): -15.81%\n",
            "\n",
            "iPerf 2 Jitter, 99th percentile: 44.786\n",
            "iPerf 3 Jitter, 99th percentile: 3.339\n",
            "Percent difference, iPerf 3 vs iPerf 2 UDP Jitter 99th percentile: -1241%\n",
            "\n",
            "iPerf 2, between 1-99th percentiles:\n",
            "\tMean UDP Jitter: 1.418\n",
            "\tStandard deviation: 1.138\n",
            "\n",
            "iPerf 3, between 1-99th percentiles:\n",
            "\tMean UDP Jitter: 1.385\n",
            "\tStandard deviation: 0.511\n",
            "\n",
            "Difference (mean UDP Jitter, iPerf 3 vs iPerf 2): -2.38%\n",
            "Difference (standard deviation, iPerf 3 vs iPerf 2): -122.74%\n",
            "\n"
          ],
          "name": "stdout"
        }
      ]
    },
    {
      "cell_type": "code",
      "metadata": {
        "id": "ztF9UkQjpUK4",
        "colab_type": "code",
        "colab": {
          "base_uri": "https://localhost:8080/",
          "height": 595
        },
        "outputId": "9ec3b6a9-278c-4c91-847b-efd670726574"
      },
      "source": [
        "# Alex/Windows (UDP)\n",
        "print(iperf2_3_udp_alex.shape)\n",
        "compare_std(iperf2_3_udp_alex, col='jitter_ms')\n",
        "compare_percentiles(iperf2_3_udp_alex, col='jitter_ms')\n",
        "compare_percentiles(iperf2_3_udp_alex, col='jitter_ms', percentile=99)"
      ],
      "execution_count": 71,
      "outputs": [
        {
          "output_type": "stream",
          "text": [
            "(366, 14)\n",
            "iPerf 2 Jitter, standard deviation: 8.100\n",
            "iPerf 3 Jitter, standard deviation: 0.529\n",
            "Percent difference, iPerf 3 vs iPerf 2 UDP Jitter standard deviation: -1431%\n",
            "iPerf 2 Jitter, 95th percentile: 1.434\n",
            "iPerf 3 Jitter, 95th percentile: 1.478\n",
            "Percent difference, iPerf 3 vs iPerf 2 UDP Jitter 95th percentile: 3%\n",
            "\n",
            "iPerf 2, between 5-95th percentiles:\n",
            "\tMean UDP Jitter: 1.012\n",
            "\tStandard deviation: 0.167\n",
            "\n",
            "iPerf 3, between 5-95th percentiles:\n",
            "\tMean UDP Jitter: 1.022\n",
            "\tStandard deviation: 0.174\n",
            "\n",
            "Difference (mean UDP Jitter, iPerf 3 vs iPerf 2): 1.02%\n",
            "Difference (standard deviation, iPerf 3 vs iPerf 2): 4.05%\n",
            "\n",
            "iPerf 2 Jitter, 99th percentile: 33.060\n",
            "iPerf 3 Jitter, 99th percentile: 3.743\n",
            "Percent difference, iPerf 3 vs iPerf 2 UDP Jitter 99th percentile: -783%\n",
            "\n",
            "iPerf 2, between 1-99th percentiles:\n",
            "\tMean UDP Jitter: 1.131\n",
            "\tStandard deviation: 1.241\n",
            "\n",
            "iPerf 3, between 1-99th percentiles:\n",
            "\tMean UDP Jitter: 1.079\n",
            "\tStandard deviation: 0.425\n",
            "\n",
            "Difference (mean UDP Jitter, iPerf 3 vs iPerf 2): -4.82%\n",
            "Difference (standard deviation, iPerf 3 vs iPerf 2): -192.03%\n",
            "\n"
          ],
          "name": "stdout"
        }
      ]
    },
    {
      "cell_type": "code",
      "metadata": {
        "id": "IfK7kuG9rc7M",
        "colab_type": "code",
        "colab": {
          "base_uri": "https://localhost:8080/",
          "height": 595
        },
        "outputId": "30947e6d-b645-4ca9-91ef-15d171dc94f4"
      },
      "source": [
        "# Alex (UDP 3m)\n",
        "print(iperf2_3_udp3m_alex.shape)\n",
        "compare_std(iperf2_3_udp3m_alex, col='jitter_ms')\n",
        "compare_percentiles(iperf2_3_udp3m_alex, col='jitter_ms')\n",
        "compare_percentiles(iperf2_3_udp3m_alex, col='jitter_ms', percentile=99)"
      ],
      "execution_count": 72,
      "outputs": [
        {
          "output_type": "stream",
          "text": [
            "(368, 14)\n",
            "iPerf 2 Jitter, standard deviation: 7.976\n",
            "iPerf 3 Jitter, standard deviation: 0.607\n",
            "Percent difference, iPerf 3 vs iPerf 2 UDP Jitter standard deviation: -1214%\n",
            "iPerf 2 Jitter, 95th percentile: 1.013\n",
            "iPerf 3 Jitter, 95th percentile: 0.890\n",
            "Percent difference, iPerf 3 vs iPerf 2 UDP Jitter 95th percentile: -14%\n",
            "\n",
            "iPerf 2, between 5-95th percentiles:\n",
            "\tMean UDP Jitter: 0.580\n",
            "\tStandard deviation: 0.133\n",
            "\n",
            "iPerf 3, between 5-95th percentiles:\n",
            "\tMean UDP Jitter: 0.588\n",
            "\tStandard deviation: 0.125\n",
            "\n",
            "Difference (mean UDP Jitter, iPerf 3 vs iPerf 2): 1.42%\n",
            "Difference (standard deviation, iPerf 3 vs iPerf 2): -6.37%\n",
            "\n",
            "iPerf 2 Jitter, 99th percentile: 62.923\n",
            "iPerf 3 Jitter, 99th percentile: 1.761\n",
            "Percent difference, iPerf 3 vs iPerf 2 UDP Jitter 99th percentile: -3472%\n",
            "\n",
            "iPerf 2, between 1-99th percentiles:\n",
            "\tMean UDP Jitter: 0.997\n",
            "\tStandard deviation: 4.753\n",
            "\n",
            "iPerf 3, between 1-99th percentiles:\n",
            "\tMean UDP Jitter: 0.602\n",
            "\tStandard deviation: 0.177\n",
            "\n",
            "Difference (mean UDP Jitter, iPerf 3 vs iPerf 2): -65.64%\n",
            "Difference (standard deviation, iPerf 3 vs iPerf 2): -2589.72%\n",
            "\n"
          ],
          "name": "stdout"
        }
      ]
    },
    {
      "cell_type": "code",
      "metadata": {
        "id": "MbXw6NUFsi9j",
        "colab_type": "code",
        "colab": {
          "base_uri": "https://localhost:8080/",
          "height": 595
        },
        "outputId": "d87ef125-372e-46de-b83e-b545e6b3e46e"
      },
      "source": [
        "# Corey/macOS (UDP)\n",
        "print(iperf2_3_udp_corey.shape)\n",
        "compare_std(iperf2_3_udp_corey, col='jitter_ms')\n",
        "compare_percentiles(iperf2_3_udp_corey, col='jitter_ms')\n",
        "compare_percentiles(iperf2_3_udp_corey, col='jitter_ms', percentile=99)"
      ],
      "execution_count": 73,
      "outputs": [
        {
          "output_type": "stream",
          "text": [
            "(366, 14)\n",
            "iPerf 2 Jitter, standard deviation: 11.336\n",
            "iPerf 3 Jitter, standard deviation: 3.356\n",
            "Percent difference, iPerf 3 vs iPerf 2 UDP Jitter standard deviation: -238%\n",
            "iPerf 2 Jitter, 95th percentile: 11.116\n",
            "iPerf 3 Jitter, 95th percentile: 11.094\n",
            "Percent difference, iPerf 3 vs iPerf 2 UDP Jitter 95th percentile: -0%\n",
            "\n",
            "iPerf 2, between 5-95th percentiles:\n",
            "\tMean UDP Jitter: 3.552\n",
            "\tStandard deviation: 1.899\n",
            "\n",
            "iPerf 3, between 5-95th percentiles:\n",
            "\tMean UDP Jitter: 3.925\n",
            "\tStandard deviation: 2.061\n",
            "\n",
            "Difference (mean UDP Jitter, iPerf 3 vs iPerf 2): 9.51%\n",
            "Difference (standard deviation, iPerf 3 vs iPerf 2): 7.87%\n",
            "\n",
            "iPerf 2 Jitter, 99th percentile: 65.979\n",
            "iPerf 3 Jitter, 99th percentile: 14.884\n",
            "Percent difference, iPerf 3 vs iPerf 2 UDP Jitter 99th percentile: -343%\n",
            "\n",
            "iPerf 2, between 1-99th percentiles:\n",
            "\tMean UDP Jitter: 5.064\n",
            "\tStandard deviation: 9.380\n",
            "\n",
            "iPerf 3, between 1-99th percentiles:\n",
            "\tMean UDP Jitter: 4.148\n",
            "\tStandard deviation: 2.668\n",
            "\n",
            "Difference (mean UDP Jitter, iPerf 3 vs iPerf 2): -22.08%\n",
            "Difference (standard deviation, iPerf 3 vs iPerf 2): -251.56%\n",
            "\n"
          ],
          "name": "stdout"
        }
      ]
    },
    {
      "cell_type": "code",
      "metadata": {
        "id": "Cc4Sdif0ti26",
        "colab_type": "code",
        "colab": {
          "base_uri": "https://localhost:8080/",
          "height": 595
        },
        "outputId": "6f3aa325-0096-455c-a9e4-136bb1fff834"
      },
      "source": [
        "# Corey (UDP 3m)\n",
        "print(iperf2_3_udp3m_corey.shape)\n",
        "compare_std(iperf2_3_udp3m_corey, col='jitter_ms')\n",
        "compare_percentiles(iperf2_3_udp3m_corey, col='jitter_ms')\n",
        "compare_percentiles(iperf2_3_udp3m_corey, col='jitter_ms', percentile=99)"
      ],
      "execution_count": 74,
      "outputs": [
        {
          "output_type": "stream",
          "text": [
            "(363, 14)\n",
            "iPerf 2 Jitter, standard deviation: 9.261\n",
            "iPerf 3 Jitter, standard deviation: 1.620\n",
            "Percent difference, iPerf 3 vs iPerf 2 UDP Jitter standard deviation: -472%\n",
            "iPerf 2 Jitter, 95th percentile: 6.049\n",
            "iPerf 3 Jitter, 95th percentile: 5.918\n",
            "Percent difference, iPerf 3 vs iPerf 2 UDP Jitter 95th percentile: -2%\n",
            "\n",
            "iPerf 2, between 5-95th percentiles:\n",
            "\tMean UDP Jitter: 2.652\n",
            "\tStandard deviation: 1.066\n",
            "\n",
            "iPerf 3, between 5-95th percentiles:\n",
            "\tMean UDP Jitter: 2.654\n",
            "\tStandard deviation: 0.919\n",
            "\n",
            "Difference (mean UDP Jitter, iPerf 3 vs iPerf 2): 0.07%\n",
            "Difference (standard deviation, iPerf 3 vs iPerf 2): -16.01%\n",
            "\n",
            "iPerf 2 Jitter, 99th percentile: 65.121\n",
            "iPerf 3 Jitter, 99th percentile: 9.639\n",
            "Percent difference, iPerf 3 vs iPerf 2 UDP Jitter 99th percentile: -576%\n",
            "\n",
            "iPerf 2, between 1-99th percentiles:\n",
            "\tMean UDP Jitter: 3.427\n",
            "\tStandard deviation: 6.623\n",
            "\n",
            "iPerf 3, between 1-99th percentiles:\n",
            "\tMean UDP Jitter: 2.794\n",
            "\tStandard deviation: 1.379\n",
            "\n",
            "Difference (mean UDP Jitter, iPerf 3 vs iPerf 2): -22.67%\n",
            "Difference (standard deviation, iPerf 3 vs iPerf 2): -380.11%\n",
            "\n"
          ],
          "name": "stdout"
        }
      ]
    },
    {
      "cell_type": "markdown",
      "metadata": {
        "id": "6EaOgYTqt5Wg",
        "colab_type": "text"
      },
      "source": [
        "TCP analysis follows."
      ]
    },
    {
      "cell_type": "code",
      "metadata": {
        "id": "3XjC02lst7om",
        "colab_type": "code",
        "colab": {
          "base_uri": "https://localhost:8080/",
          "height": 595
        },
        "outputId": "2b1e912c-9819-4095-eca2-9b5f202f4de5"
      },
      "source": [
        "# Spencer/Android 8 (TCP)\n",
        "print(iperf2_3_tcp_spencer.shape)\n",
        "compare_std(iperf2_3_tcp_spencer, col='transfer_rate', title='Transfer Rate', description='TCP throughput')\n",
        "compare_percentiles(iperf2_3_tcp_spencer, col='transfer_rate', title='Transfer Rate', description='TCP throughput')\n",
        "compare_percentiles(iperf2_3_tcp_spencer, col='transfer_rate', title='Transfer Rate', description='TCP throughput', percentile=99)"
      ],
      "execution_count": 75,
      "outputs": [
        {
          "output_type": "stream",
          "text": [
            "(342, 13)\n",
            "iPerf 2 Transfer Rate, standard deviation: 1175926.034\n",
            "iPerf 3 Transfer Rate, standard deviation: 1152513.411\n",
            "Percent difference, iPerf 3 vs iPerf 2 TCP throughput standard deviation: -2%\n",
            "iPerf 2 Transfer Rate, 95th percentile: 10723747.350\n",
            "iPerf 3 Transfer Rate, 95th percentile: 10437803.814\n",
            "Percent difference, iPerf 3 vs iPerf 2 TCP throughput 95th percentile: -3%\n",
            "\n",
            "iPerf 2, between 5-95th percentiles:\n",
            "\tMean TCP throughput: 9918493.706\n",
            "\tStandard deviation: 903671.555\n",
            "\n",
            "iPerf 3, between 5-95th percentiles:\n",
            "\tMean TCP throughput: 9766018.126\n",
            "\tStandard deviation: 840561.985\n",
            "\n",
            "Difference (mean TCP throughput, iPerf 3 vs iPerf 2): -1.56%\n",
            "Difference (standard deviation, iPerf 3 vs iPerf 2): -7.51%\n",
            "\n",
            "iPerf 2 Transfer Rate, 99th percentile: 10749027.640\n",
            "iPerf 3 Transfer Rate, 99th percentile: 10442114.309\n",
            "Percent difference, iPerf 3 vs iPerf 2 TCP throughput 99th percentile: -3%\n",
            "\n",
            "iPerf 2, between 1-99th percentiles:\n",
            "\tMean TCP throughput: 9828761.847\n",
            "\tStandard deviation: 1067699.453\n",
            "\n",
            "iPerf 3, between 1-99th percentiles:\n",
            "\tMean TCP throughput: 9671596.306\n",
            "\tStandard deviation: 1011055.543\n",
            "\n",
            "Difference (mean TCP throughput, iPerf 3 vs iPerf 2): -1.63%\n",
            "Difference (standard deviation, iPerf 3 vs iPerf 2): -5.60%\n",
            "\n"
          ],
          "name": "stdout"
        }
      ]
    },
    {
      "cell_type": "code",
      "metadata": {
        "id": "NDB9FZz7uPbX",
        "colab_type": "code",
        "colab": {
          "base_uri": "https://localhost:8080/",
          "height": 595
        },
        "outputId": "bbcd3c0a-e5bf-4d0d-84dc-d55098d057d3"
      },
      "source": [
        "# Alex/Windows (TCP)\n",
        "print(iperf2_3_tcp_alex.shape)\n",
        "compare_std(iperf2_3_tcp_alex, col='transfer_rate', title='Transfer Rate', description='TCP throughput')\n",
        "compare_percentiles(iperf2_3_tcp_alex, col='transfer_rate', title='Transfer Rate', description='TCP throughput')\n",
        "compare_percentiles(iperf2_3_tcp_alex, col='transfer_rate', title='Transfer Rate', description='TCP throughput', percentile=99)"
      ],
      "execution_count": 76,
      "outputs": [
        {
          "output_type": "stream",
          "text": [
            "(358, 13)\n",
            "iPerf 2 Transfer Rate, standard deviation: 217163.230\n",
            "iPerf 3 Transfer Rate, standard deviation: 335407.758\n",
            "Percent difference, iPerf 3 vs iPerf 2 TCP throughput standard deviation: 35%\n",
            "iPerf 2 Transfer Rate, 95th percentile: 4926228.550\n",
            "iPerf 3 Transfer Rate, 95th percentile: 4680158.407\n",
            "Percent difference, iPerf 3 vs iPerf 2 TCP throughput 95th percentile: -5%\n",
            "\n",
            "iPerf 2, between 5-95th percentiles:\n",
            "\tMean TCP throughput: 4877424.348\n",
            "\tStandard deviation: 58520.278\n",
            "\n",
            "iPerf 3, between 5-95th percentiles:\n",
            "\tMean TCP throughput: 4636329.427\n",
            "\tStandard deviation: 52255.418\n",
            "\n",
            "Difference (mean TCP throughput, iPerf 3 vs iPerf 2): -5.20%\n",
            "Difference (standard deviation, iPerf 3 vs iPerf 2): -11.99%\n",
            "\n",
            "iPerf 2 Transfer Rate, 99th percentile: 4927649.320\n",
            "iPerf 3 Transfer Rate, 99th percentile: 4712772.297\n",
            "Percent difference, iPerf 3 vs iPerf 2 TCP throughput 99th percentile: -5%\n",
            "\n",
            "iPerf 2, between 1-99th percentiles:\n",
            "\tMean TCP throughput: 4867543.226\n",
            "\tStandard deviation: 89011.259\n",
            "\n",
            "iPerf 3, between 1-99th percentiles:\n",
            "\tMean TCP throughput: 4629953.033\n",
            "\tStandard deviation: 67603.398\n",
            "\n",
            "Difference (mean TCP throughput, iPerf 3 vs iPerf 2): -5.13%\n",
            "Difference (standard deviation, iPerf 3 vs iPerf 2): -31.67%\n",
            "\n"
          ],
          "name": "stdout"
        }
      ]
    },
    {
      "cell_type": "code",
      "metadata": {
        "id": "kfnNwALquahl",
        "colab_type": "code",
        "colab": {
          "base_uri": "https://localhost:8080/",
          "height": 595
        },
        "outputId": "5f32bc5b-f48f-486f-f3c2-3fe96158f43f"
      },
      "source": [
        "# Corey/macOS (TCP)\n",
        "print(iperf2_3_tcp_corey.shape)\n",
        "compare_std(iperf2_3_tcp_corey, col='transfer_rate', title='Transfer Rate', description='TCP throughput')\n",
        "compare_percentiles(iperf2_3_tcp_corey, col='transfer_rate', title='Transfer Rate', description='TCP throughput')\n",
        "compare_percentiles(iperf2_3_tcp_corey, col='transfer_rate', title='Transfer Rate', description='TCP throughput', percentile=99)"
      ],
      "execution_count": 77,
      "outputs": [
        {
          "output_type": "stream",
          "text": [
            "(365, 13)\n",
            "iPerf 2 Transfer Rate, standard deviation: 5952700.183\n",
            "iPerf 3 Transfer Rate, standard deviation: 5879835.276\n",
            "Percent difference, iPerf 3 vs iPerf 2 TCP throughput standard deviation: -1%\n",
            "iPerf 2 Transfer Rate, 95th percentile: 17928031.800\n",
            "iPerf 3 Transfer Rate, 95th percentile: 17644731.491\n",
            "Percent difference, iPerf 3 vs iPerf 2 TCP throughput 95th percentile: -2%\n",
            "\n",
            "iPerf 2, between 5-95th percentiles:\n",
            "\tMean TCP throughput: 10766876.428\n",
            "\tStandard deviation: 5590054.750\n",
            "\n",
            "iPerf 3, between 5-95th percentiles:\n",
            "\tMean TCP throughput: 10415767.210\n",
            "\tStandard deviation: 5532021.390\n",
            "\n",
            "Difference (mean TCP throughput, iPerf 3 vs iPerf 2): -3.37%\n",
            "Difference (standard deviation, iPerf 3 vs iPerf 2): -1.05%\n",
            "\n",
            "iPerf 2 Transfer Rate, 99th percentile: 18002166.120\n",
            "iPerf 3 Transfer Rate, 99th percentile: 17719039.318\n",
            "Percent difference, iPerf 3 vs iPerf 2 TCP throughput 99th percentile: -2%\n",
            "\n",
            "iPerf 2, between 1-99th percentiles:\n",
            "\tMean TCP throughput: 10674657.409\n",
            "\tStandard deviation: 5872753.784\n",
            "\n",
            "iPerf 3, between 1-99th percentiles:\n",
            "\tMean TCP throughput: 10341232.247\n",
            "\tStandard deviation: 5802558.397\n",
            "\n",
            "Difference (mean TCP throughput, iPerf 3 vs iPerf 2): -3.22%\n",
            "Difference (standard deviation, iPerf 3 vs iPerf 2): -1.21%\n",
            "\n"
          ],
          "name": "stdout"
        }
      ]
    },
    {
      "cell_type": "markdown",
      "metadata": {
        "id": "3lgMy0cEukhR",
        "colab_type": "text"
      },
      "source": [
        "Extra: iperf3 vs multiperf3 analysis.\n",
        "\n",
        "\\*\\*Here, \"iPerf 2\" means \"iPerf 3\", and \"iPerf 3\" means \"multiperf3\""
      ]
    },
    {
      "cell_type": "code",
      "metadata": {
        "id": "V5SVlihqupuB",
        "colab_type": "code",
        "colab": {
          "base_uri": "https://localhost:8080/",
          "height": 595
        },
        "outputId": "8c89f4ee-bbc3-470a-8e91-095ae7c37ade"
      },
      "source": [
        "# Spencer\n",
        "print(iperf3_multiperf3_spencer.shape)\n",
        "compare_std(iperf3_multiperf3_spencer, col='transfer_rate', title='Transfer Rate', description='TCP throughput')\n",
        "compare_percentiles(iperf3_multiperf3_spencer, col='transfer_rate', title='Transfer Rate', description='TCP throughput')\n",
        "compare_percentiles(iperf3_multiperf3_spencer, col='transfer_rate', title='Transfer Rate', description='TCP throughput', percentile=99)"
      ],
      "execution_count": 78,
      "outputs": [
        {
          "output_type": "stream",
          "text": [
            "(341, 10)\n",
            "iPerf 2 Transfer Rate, standard deviation: 1154006.348\n",
            "iPerf 3 Transfer Rate, standard deviation: 1179497.153\n",
            "Percent difference, iPerf 3 vs iPerf 2 TCP throughput standard deviation: 2%\n",
            "iPerf 2 Transfer Rate, 95th percentile: 10437817.368\n",
            "iPerf 3 Transfer Rate, 95th percentile: 10473679.296\n",
            "Percent difference, iPerf 3 vs iPerf 2 TCP throughput 95th percentile: 0%\n",
            "\n",
            "iPerf 2, between 5-95th percentiles:\n",
            "\tMean TCP throughput: 9759245.972\n",
            "\tStandard deviation: 852001.303\n",
            "\n",
            "iPerf 3, between 5-95th percentiles:\n",
            "\tMean TCP throughput: 9780762.899\n",
            "\tStandard deviation: 837517.352\n",
            "\n",
            "Difference (mean TCP throughput, iPerf 3 vs iPerf 2): 0.22%\n",
            "Difference (standard deviation, iPerf 3 vs iPerf 2): -1.73%\n",
            "\n",
            "iPerf 2 Transfer Rate, 99th percentile: 10442130.684\n",
            "iPerf 3 Transfer Rate, 99th percentile: 10483439.647\n",
            "Percent difference, iPerf 3 vs iPerf 2 TCP throughput 99th percentile: 0%\n",
            "\n",
            "iPerf 2, between 1-99th percentiles:\n",
            "\tMean TCP throughput: 9670573.807\n",
            "\tStandard deviation: 1012400.061\n",
            "\n",
            "iPerf 3, between 1-99th percentiles:\n",
            "\tMean TCP throughput: 9686005.983\n",
            "\tStandard deviation: 1026105.267\n",
            "\n",
            "Difference (mean TCP throughput, iPerf 3 vs iPerf 2): 0.16%\n",
            "Difference (standard deviation, iPerf 3 vs iPerf 2): 1.34%\n",
            "\n"
          ],
          "name": "stdout"
        }
      ]
    },
    {
      "cell_type": "code",
      "metadata": {
        "id": "h5d4jVVjuzb9",
        "colab_type": "code",
        "colab": {
          "base_uri": "https://localhost:8080/",
          "height": 595
        },
        "outputId": "46fcfd12-26a9-42a1-cf85-29fb30114b5b"
      },
      "source": [
        "# Alex\n",
        "print(iperf3_multiperf3_alex.shape)\n",
        "compare_std(iperf3_multiperf3_alex, col='transfer_rate', title='Transfer Rate', description='TCP throughput')\n",
        "compare_percentiles(iperf3_multiperf3_alex, col='transfer_rate', title='Transfer Rate', description='TCP throughput')\n",
        "compare_percentiles(iperf3_multiperf3_alex, col='transfer_rate', title='Transfer Rate', description='TCP throughput', percentile=99)"
      ],
      "execution_count": 79,
      "outputs": [
        {
          "output_type": "stream",
          "text": [
            "(355, 10)\n",
            "iPerf 2 Transfer Rate, standard deviation: 73715.087\n",
            "iPerf 3 Transfer Rate, standard deviation: 124321.930\n",
            "Percent difference, iPerf 3 vs iPerf 2 TCP throughput standard deviation: 41%\n",
            "iPerf 2 Transfer Rate, 95th percentile: 4680162.766\n",
            "iPerf 3 Transfer Rate, 95th percentile: 4718704.559\n",
            "Percent difference, iPerf 3 vs iPerf 2 TCP throughput 95th percentile: 1%\n",
            "\n",
            "iPerf 2, between 5-95th percentiles:\n",
            "\tMean TCP throughput: 4637464.932\n",
            "\tStandard deviation: 50759.917\n",
            "\n",
            "iPerf 3, between 5-95th percentiles:\n",
            "\tMean TCP throughput: 4675907.264\n",
            "\tStandard deviation: 50664.259\n",
            "\n",
            "Difference (mean TCP throughput, iPerf 3 vs iPerf 2): 0.82%\n",
            "Difference (standard deviation, iPerf 3 vs iPerf 2): -0.19%\n",
            "\n",
            "iPerf 2 Transfer Rate, 99th percentile: 4712804.367\n",
            "iPerf 3 Transfer Rate, 99th percentile: 4720092.250\n",
            "Percent difference, iPerf 3 vs iPerf 2 TCP throughput 99th percentile: 0%\n",
            "\n",
            "iPerf 2, between 1-99th percentiles:\n",
            "\tMean TCP throughput: 4631681.331\n",
            "\tStandard deviation: 64179.886\n",
            "\n",
            "iPerf 3, between 1-99th percentiles:\n",
            "\tMean TCP throughput: 4668699.617\n",
            "\tStandard deviation: 66928.554\n",
            "\n",
            "Difference (mean TCP throughput, iPerf 3 vs iPerf 2): 0.79%\n",
            "Difference (standard deviation, iPerf 3 vs iPerf 2): 4.11%\n",
            "\n"
          ],
          "name": "stdout"
        }
      ]
    },
    {
      "cell_type": "code",
      "metadata": {
        "id": "KkFjAbDUvQYj",
        "colab_type": "code",
        "colab": {
          "base_uri": "https://localhost:8080/",
          "height": 595
        },
        "outputId": "0d0fc1e2-5b61-4b60-df09-7ebc9076bc4d"
      },
      "source": [
        "# Corey\n",
        "print(iperf3_multiperf3_corey.shape)\n",
        "compare_std(iperf3_multiperf3_corey, col='transfer_rate', title='Transfer Rate', description='TCP throughput')\n",
        "compare_percentiles(iperf3_multiperf3_corey, col='transfer_rate', title='Transfer Rate', description='TCP throughput')\n",
        "compare_percentiles(iperf3_multiperf3_corey, col='transfer_rate', title='Transfer Rate', description='TCP throughput', percentile=99)"
      ],
      "execution_count": 80,
      "outputs": [
        {
          "output_type": "stream",
          "text": [
            "(364, 10)\n",
            "iPerf 2 Transfer Rate, standard deviation: 5867534.626\n",
            "iPerf 3 Transfer Rate, standard deviation: 5889771.677\n",
            "Percent difference, iPerf 3 vs iPerf 2 TCP throughput standard deviation: 0%\n",
            "iPerf 2 Transfer Rate, 95th percentile: 17644751.414\n",
            "iPerf 3 Transfer Rate, 95th percentile: 17656400.929\n",
            "Percent difference, iPerf 3 vs iPerf 2 TCP throughput 95th percentile: 0%\n",
            "\n",
            "iPerf 2, between 5-95th percentiles:\n",
            "\tMean TCP throughput: 10441782.374\n",
            "\tStandard deviation: 5520491.441\n",
            "\n",
            "iPerf 3, between 5-95th percentiles:\n",
            "\tMean TCP throughput: 10518382.853\n",
            "\tStandard deviation: 5542356.664\n",
            "\n",
            "Difference (mean TCP throughput, iPerf 3 vs iPerf 2): 0.73%\n",
            "Difference (standard deviation, iPerf 3 vs iPerf 2): 0.39%\n",
            "\n",
            "iPerf 2 Transfer Rate, 99th percentile: 17719054.153\n",
            "iPerf 3 Transfer Rate, 99th percentile: 17746316.159\n",
            "Percent difference, iPerf 3 vs iPerf 2 TCP throughput 99th percentile: 0%\n",
            "\n",
            "iPerf 2, between 1-99th percentiles:\n",
            "\tMean TCP throughput: 10367495.069\n",
            "\tStandard deviation: 5789475.452\n",
            "\n",
            "iPerf 3, between 1-99th percentiles:\n",
            "\tMean TCP throughput: 10437911.618\n",
            "\tStandard deviation: 5813154.255\n",
            "\n",
            "Difference (mean TCP throughput, iPerf 3 vs iPerf 2): 0.67%\n",
            "Difference (standard deviation, iPerf 3 vs iPerf 2): 0.41%\n",
            "\n"
          ],
          "name": "stdout"
        }
      ]
    }
  ]
}